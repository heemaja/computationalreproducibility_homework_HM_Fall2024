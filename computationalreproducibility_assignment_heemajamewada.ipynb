{
  "nbformat": 4,
  "nbformat_minor": 0,
  "metadata": {
    "colab": {
      "provenance": []
    },
    "kernelspec": {
      "name": "python3",
      "display_name": "Python 3"
    },
    "language_info": {
      "name": "python"
    }
  },
  "cells": [
    {
      "cell_type": "code",
      "execution_count": null,
      "metadata": {
        "colab": {
          "base_uri": "https://localhost:8080/"
        },
        "id": "j7EDTPqfjt-w",
        "outputId": "fbffcee0-cbb8-4eed-b8ed-2e986fa9acc0"
      },
      "outputs": [
        {
          "output_type": "stream",
          "name": "stdout",
          "text": [
            "Today's date: 2024-10-23\n"
          ]
        }
      ],
      "source": [
        "#today's date\n",
        "\n",
        "import datetime\n",
        "\n",
        "today = datetime.date.today()\n",
        "print(\"Today's date:\", today)"
      ]
    },
    {
      "cell_type": "code",
      "source": [
        "#math equation\n",
        "\n",
        "print(8*8)"
      ],
      "metadata": {
        "colab": {
          "base_uri": "https://localhost:8080/"
        },
        "id": "lotzUNkxj_45",
        "outputId": "00b48285-1609-447b-ff50-5b9d3d3240af"
      },
      "execution_count": null,
      "outputs": [
        {
          "output_type": "stream",
          "name": "stdout",
          "text": [
            "64\n"
          ]
        }
      ]
    }
  ]
}